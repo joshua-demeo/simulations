{
 "cells": [
  {
   "cell_type": "markdown",
   "metadata": {},
   "source": [
    "### Monty Hall Problem\n",
    "\n",
    "Reference: https://en.wikipedia.org/wiki/Monty_Hall_problem\n",
    "\n",
    "Suppose you're on a game show, and you're given the choice of three doors: Behind one door is a car; behind the others, goats. You pick a door, say No. 1, and the host, who knows what's behind the doors, opens another door, say No. 3, which has a goat. He then says to you, \"Do you want to pick door No. 2?\" Is it to your advantage to switch your choice?"
   ]
  },
  {
   "cell_type": "code",
   "execution_count": 37,
   "metadata": {},
   "outputs": [],
   "source": [
    "import random\n",
    "import matplotlib.pyplot as plt\n",
    "import seaborn as sns\n",
    "sns.set()"
   ]
  },
  {
   "cell_type": "code",
   "execution_count": 32,
   "metadata": {},
   "outputs": [],
   "source": [
    "def monty_hall_problem(n_doors=3, keep_choice=True):\n",
    "    \n",
    "    # Shuffle the doors\n",
    "    doors = ['goat'] * (n_doors - 1) + ['car']\n",
    "    random.shuffle(doors)\n",
    "    \n",
    "    # Choose the first element\n",
    "    player_choice = doors[0]\n",
    "    \n",
    "    # Monty giving you some info\n",
    "    # NOTE: Is it more likely to have a car with the\n",
    "    # subset that Monty gives you info on, or the one\n",
    "    # you first chose?\n",
    "    # Probability(your choice contains car) = 1 / n_doors\n",
    "    # Probability(one of the doors that you didn't choose contains car) = ((n_doors) - 1) / n_doors\n",
    "    \n",
    "    # It doesn't matter how I handle the list of doors\n",
    "    if player_choice == 'car':\n",
    "        doors = ['car', 'goat']\n",
    "    else:\n",
    "        doors = ['goat', 'car']\n",
    "        \n",
    "\n",
    "    def check_answer(player_choice):\n",
    "        if player_choice == 'car':\n",
    "#             print('You have won a brand new Telsa')\n",
    "            return 1\n",
    "        else:\n",
    "#             print('You have found a goat....')\n",
    "            return 0\n",
    "    \n",
    "    if keep_choice:\n",
    "        is_correct = check_answer(player_choice)\n",
    "    # Switch answer\n",
    "    else:\n",
    "        player_choice = doors[1]\n",
    "        is_correct = check_answer(player_choice)\n",
    "    return is_correct"
   ]
  },
  {
   "cell_type": "code",
   "execution_count": 57,
   "metadata": {},
   "outputs": [],
   "source": [
    "# Run simulation\n",
    "n_doors = 3\n",
    "keep_choice = True\n",
    "rounds = 100000\n",
    "\n",
    "num_correct = 0\n",
    "round_numbers = []\n",
    "data_points = []\n",
    "for round_number in range(1, rounds + 1):\n",
    "    # Tally if the correct choice was made\n",
    "    num_correct += monty_hall_problem(n_doors=n_doors, keep_choice=keep_choice)\n",
    "    fraction_correct = num_correct / round_number\n",
    "    round_numbers.append(round_number)\n",
    "    data_points.append(fraction_correct)"
   ]
  },
  {
   "cell_type": "code",
   "execution_count": 59,
   "metadata": {},
   "outputs": [
    {
     "data": {
      "image/png": "[encoded data removed]",
      "text/plain": [
       "<Figure size 432x288 with 1 Axes>"
      ]
     },
     "metadata": {},
     "output_type": "display_data"
    }
   ],
   "source": [
    "plt.plot(round_numbers, data_points, alpha=0.8)\n",
    "plt.title(f'Monty Hall Problem (# doors={n_doors}, keep_choice={keep_choice})')\n",
    "plt.xlabel('Rounds Played', fontsize=12)\n",
    "plt.ylabel('Fraction of Games Won', fontsize=12)\n",
    "plt.savefig('images/monty_hall_problem.png', dpi=200, bbox_inches='tight')\n",
    "plt.show()"
   ]
  },
  {
   "cell_type": "code",
   "execution_count": null,
   "metadata": {},
   "outputs": [],
   "source": []
  }
 ],
 "metadata": {
  "kernelspec": {
   "display_name": "ml",
   "language": "python",
   "name": "ml"
  },
  "language_info": {
   "codemirror_mode": {
    "name": "ipython",
    "version": 3
   },
   "file_extension": ".py",
   "mimetype": "text/x-python",
   "name": "python",
   "nbconvert_exporter": "python",
   "pygments_lexer": "ipython3",
   "version": "3.8.2"
  }
 },
 "nbformat": 4,
 "nbformat_minor": 4
}
